{
  "nbformat": 4,
  "nbformat_minor": 0,
  "metadata": {
    "colab": {
      "name": "Aging cGAN.ipynb",
      "version": "0.3.2",
      "provenance": [],
      "include_colab_link": true
    },
    "kernelspec": {
      "name": "python3",
      "display_name": "Python 3"
    },
    "accelerator": "GPU"
  },
  "cells": [
    {
      "cell_type": "markdown",
      "metadata": {
        "id": "view-in-github",
        "colab_type": "text"
      },
      "source": [
        "<a href=\"https://colab.research.google.com/github/CleanPegasus/Aging-c-GAN/blob/master/Aging_cGAN.ipynb\" target=\"_parent\"><img src=\"https://colab.research.google.com/assets/colab-badge.svg\" alt=\"Open In Colab\"/></a>"
      ]
    },
    {
      "cell_type": "code",
      "metadata": {
        "id": "lt81T_sP9a6W",
        "colab_type": "code",
        "colab": {}
      },
      "source": [
        "mkdir data"
      ],
      "execution_count": 0,
      "outputs": []
    },
    {
      "cell_type": "code",
      "metadata": {
        "id": "8-1SMJmG9yl6",
        "colab_type": "code",
        "colab": {
          "base_uri": "https://localhost:8080/",
          "height": 34
        },
        "outputId": "a65f1179-9ebd-4969-a1f1-97401f758af1"
      },
      "source": [
        "cd data"
      ],
      "execution_count": 2,
      "outputs": [
        {
          "output_type": "stream",
          "text": [
            "/content/data\n"
          ],
          "name": "stdout"
        }
      ]
    },
    {
      "cell_type": "code",
      "metadata": {
        "id": "b8yhY0xh_ETr",
        "colab_type": "code",
        "colab": {
          "base_uri": "https://localhost:8080/",
          "height": 204
        },
        "outputId": "920bbcbc-e1e0-4483-de82-9b6b59d7f2d7"
      },
      "source": [
        "!wget https://data.vision.ee.ethz.ch/cvl/rrothe/imdb-wiki/static/wiki_crop.tar"
      ],
      "execution_count": 3,
      "outputs": [
        {
          "output_type": "stream",
          "text": [
            "--2019-05-24 08:39:16--  https://data.vision.ee.ethz.ch/cvl/rrothe/imdb-wiki/static/wiki_crop.tar\n",
            "Resolving data.vision.ee.ethz.ch (data.vision.ee.ethz.ch)... 129.132.52.162\n",
            "Connecting to data.vision.ee.ethz.ch (data.vision.ee.ethz.ch)|129.132.52.162|:443... connected.\n",
            "HTTP request sent, awaiting response... 200 OK\n",
            "Length: 811315200 (774M) [application/x-tar]\n",
            "Saving to: ‘wiki_crop.tar’\n",
            "\n",
            "wiki_crop.tar       100%[===================>] 773.73M  1.22MB/s    in 11m 45s \n",
            "\n",
            "2019-05-24 08:51:02 (1.10 MB/s) - ‘wiki_crop.tar’ saved [811315200/811315200]\n",
            "\n"
          ],
          "name": "stdout"
        }
      ]
    },
    {
      "cell_type": "code",
      "metadata": {
        "id": "GS2Al6QiCA0n",
        "colab_type": "code",
        "colab": {}
      },
      "source": [
        "!tar -xvf wiki_crop.tar"
      ],
      "execution_count": 0,
      "outputs": []
    },
    {
      "cell_type": "code",
      "metadata": {
        "id": "i3v2ffUB_oKh",
        "colab_type": "code",
        "colab": {}
      },
      "source": [
        "import math\n",
        "import os\n",
        "import time\n",
        "from datetime import datetime\n",
        "from scipy.io import loadmat"
      ],
      "execution_count": 0,
      "outputs": []
    },
    {
      "cell_type": "code",
      "metadata": {
        "id": "KRABkcjjATMg",
        "colab_type": "code",
        "colab": {}
      },
      "source": [
        "import numpy as np\n",
        "import matplotlib.pyplot as plt\n",
        "import tensorflow as tf\n",
        "from keras import Input, Model\n",
        "from keras.applications import InceptionResNetV2\n",
        "from keras.callbacks import TensorBoard\n",
        "from keras.layers import Conv2D, Flatten, Dense, BatchNormalization, Reshape, concatenate, LeakyReLU, Lambda, K, Conv2DTranspose, Activation, UpSampling2D, Dropout\n",
        "from keras.optimizers import Adam\n",
        "from keras.utils import to_categorical\n",
        "from keras_preprocessing import image"
      ],
      "execution_count": 0,
      "outputs": []
    },
    {
      "cell_type": "code",
      "metadata": {
        "id": "pidW6C4yC0hL",
        "colab_type": "code",
        "colab": {}
      },
      "source": [
        "def load_data(wiki_dir, dataset= 'wiki'):\n",
        "  \n",
        "  meta = loadmat(os.path.join(wiki_dir, \"{}.mat\".format(datset)))\n",
        "  \n",
        "  full_path = meta[dataset][0, 0][\"full_path\"][0]\n",
        "  \n",
        "  dob = meta[dataset][0, 0][\"dob\"][0]\n",
        "  \n",
        "  photo_taken = meta[dataset][0, 0][\"photo_taken\"][0]\n",
        "  \n",
        "  age = [calculate_age(photo_taken[i], dob[i]) for i in range(len(dob))]\n",
        "  \n",
        "  images = []\n",
        "  age_list = []\n",
        "  \n",
        "  for index, image_path in enumerate(full_path):\n",
        "    \n",
        "    images.append(image_path[0])\n",
        "    age_list.append(age[index])\n",
        "    \n",
        "  return images, age_list"
      ],
      "execution_count": 0,
      "outputs": []
    },
    {
      "cell_type": "code",
      "metadata": {
        "id": "c76nG-QME892",
        "colab_type": "code",
        "colab": {}
      },
      "source": [
        "def calculate_age(taken, dob):\n",
        "  birth = datetime.fromordinal(max(int(dob) - 366, 1))\n",
        "  \n",
        "  if birth.month < 7:\n",
        "    return taken - birth.year\n",
        "  else:\n",
        "    return taken - birth.year - 1"
      ],
      "execution_count": 0,
      "outputs": []
    },
    {
      "cell_type": "code",
      "metadata": {
        "id": "Rj80ITNIFyCD",
        "colab_type": "code",
        "colab": {}
      },
      "source": [
        "def build_encoder():\n",
        "  \n",
        "  input_layer = Input(shape = (64, 64, 3))\n",
        "  \n",
        "  enc = Conv2D(filters = 32, kernel_size = 5, strides = 2, padding = 'same')(input_layer)\n",
        "  enc = LeakyReLU(alpha = 0.2)(enc)\n",
        "  \n",
        "  enc = Conv2D(filters = 64, kernel_size = 5, strides = 2, padding = 'same')(enc)\n",
        "  enc = BatchNormalization()(enc)\n",
        "  enc = LeakyReLU(alpha = 0.2)(enc)\n",
        "  \n",
        "  enc = Conv2D(filters = 128, kernel_size = 5, strides = 2, padding = 'same')(enc)\n",
        "  enc = BatchNormalization()(enc)\n",
        "  enc = LeakyReLU(alpha = 0.2)(enc)\n",
        "  \n",
        "  enc = Conv2D(filters = 256, kernel_size = 5, strides = 2, padding = 'same')(enc)\n",
        "  enc = BatchNormalization()(enc)\n",
        "  enc = LeakyReLU(alpha = 0.2)(enc)\n",
        "  \n",
        "  enc = Flatten()(enc)\n",
        "  \n",
        "  enc = Dense(4096)(enc)\n",
        "  enc = BatchNormalization()(enc)\n",
        "  enc = LeakyReLU(alpha = 0.2)(enc)\n",
        "  \n",
        "  enc = Dense(100)(enc)\n",
        "  \n",
        "  model = Model(inputs = [input_layer], outputs = [enc])\n",
        "  \n",
        "  return model"
      ],
      "execution_count": 0,
      "outputs": []
    },
    {
      "cell_type": "code",
      "metadata": {
        "id": "UhCJzWaHHNw8",
        "colab_type": "code",
        "colab": {}
      },
      "source": [
        "def build_gen():\n",
        "  \n",
        "  latent_dim = 100\n",
        "  num_classes = 6\n",
        "  \n",
        "  input_z_noise = Input(shape = (latent_dims,))\n",
        "  input_label = Input(shape = (num_classes,))\n",
        "  \n",
        "  x = concatenate([input_z_noise, input_label])\n",
        "  \n",
        "  x = Dense(2048, input_dim = latent_dims + num_classes)(x)\n",
        "  x = LeakyReLU(alpha = 0.2)(x)\n",
        "  x = Dropout(0.2)(x)\n",
        "  \n",
        "  x = Dense(256 * 8 * 8)(x)\n",
        "  x = BatchNormalization()(x)\n",
        "  x = LeakyReLU(alpha = 0.2)(x)\n",
        "  x = Dropout(0.2)(x)\n",
        "  \n",
        "  x = Reshape(8, 8, 256)(x)\n",
        "  \n",
        "  x = UpSampling2D(size = (2, 2))(x)\n",
        "  x = Conv2D(filters = 128, kernel_size = 5, padding = 'same')(x)\n",
        "  x = BatchNormalization(momentum = 0.8)(x)\n",
        "  x = LeakyReLU(alpha = 0.2)(x)\n",
        "  \n",
        "  x = UpSampling2D(size = (2, 2))(x)\n",
        "  x = Conv2D(filters = 64, kernel_size = 5, padding = 'same')(x)\n",
        "  x = BatchNormalization(momentum = 0.8)(x)\n",
        "  x = LeakyReLU(alpha = 0.2)(x)\n",
        "  \n",
        "  x = UpSampling2D(size = (2, 2))(x)\n",
        "  x = Conv2D(filters = 3, kernel_size = 5, padding = 'same')(x)\n",
        "  x = BatchNormalization(momentum = 0.8)(x)\n",
        "  x = Activation('tanh')(x)\n",
        "  \n",
        "  model = Model(inputs = [input_z_noise, input_labels], outputs = [x])\n",
        "  \n",
        "  return model"
      ],
      "execution_count": 0,
      "outputs": []
    },
    {
      "cell_type": "code",
      "metadata": {
        "id": "ey7OT-L5KV6O",
        "colab_type": "code",
        "colab": {}
      },
      "source": [
        "def expand_label_input():\n",
        "  x = K.expand_dims(x, axis = 1)\n",
        "  x = K.title(x, [1, 32, 32, 1])\n",
        "  return x"
      ],
      "execution_count": 0,
      "outputs": []
    },
    {
      "cell_type": "code",
      "metadata": {
        "id": "Lw58b10YMPCu",
        "colab_type": "code",
        "colab": {}
      },
      "source": [
        "def build_disc():\n",
        "  \n",
        "  input_shape = (64, 64, 3)\n",
        "  label_shape = (6,)\n",
        "  \n",
        "  image_input = Input(shape = input_shape)\n",
        "  label_input = Input(shape = label_input)\n",
        "  \n",
        "  x = Conv2D(filters = 64, kernel_size = 3, strides = 2, padding = 'same')(image_input)\n",
        "  x = LeakyReLU(alpha = 0.2)(x)\n",
        "  \n",
        "  label_input1 = Lambda(expand_label_input)(label_input)\n",
        "  \n",
        "  x = concatenate([x, label_input1], axis = 3)\n",
        "  \n",
        "  x = Conv2D(128, kernel_size = 3, strides = 2, padding = 'same')(x)\n",
        "  x = BatchNormalization()(x)\n",
        "  x = LeakyReLU(alpha = 0.2)(x)\n",
        "  \n",
        "  x = Conv2D(256, kernel_size = 3, strides = 2, padding = 'same')(x)\n",
        "  x = BatchNormalization()(x)\n",
        "  x = LeakyReLU(alpha = 0.2)(x)\n",
        "  \n",
        "  x = Conv2D(512, kernel_size = 3, strides = 2, padding = 'same')(x)\n",
        "  x = BatchNormalization()(x)\n",
        "  x = LeakyReLU(alpha = 0.2)(x)\n",
        "  \n",
        "  x = Flatten()(x)\n",
        "  x = Dense(1, activation = 'sigmoid')(x)\n",
        "  \n",
        "  model = Model(inputs = [image_input, label_input], outputs = [x])\n",
        "  \n",
        "  return model"
      ],
      "execution_count": 0,
      "outputs": []
    },
    {
      "cell_type": "code",
      "metadata": {
        "id": "fE5_iUddOHjO",
        "colab_type": "code",
        "colab": {}
      },
      "source": [
        ""
      ],
      "execution_count": 0,
      "outputs": []
    }
  ]
}